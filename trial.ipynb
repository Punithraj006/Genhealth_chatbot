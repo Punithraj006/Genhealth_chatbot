{
 "cells": [
  {
   "cell_type": "code",
   "execution_count": 1,
   "id": "cd87dd21",
   "metadata": {},
   "outputs": [
    {
     "name": "stderr",
     "output_type": "stream",
     "text": [
      "2024-02-13 11:57:08.585 \n",
      "  \u001b[33m\u001b[1mWarning:\u001b[0m to view this Streamlit app on a browser, run it with the following\n",
      "  command:\n",
      "\n",
      "    streamlit run C:\\Users\\Admin\\anaconda3\\lib\\site-packages\\ipykernel_launcher.py [ARGUMENTS]\n"
     ]
    }
   ],
   "source": [
    "import streamlit as st\n",
    "\n",
    "st.title(\"SQL Query Generator with GPT-4\")\n",
    "st.write(\"Enter your message to generate SQL and view results.\")\n",
    "user_message = st.text_input(\"Enter your message:\")\n"
   ]
  },
  {
   "cell_type": "code",
   "execution_count": 21,
   "id": "a5678f06",
   "metadata": {},
   "outputs": [
    {
     "name": "stdout",
     "output_type": "stream",
     "text": [
      "x <re.Match object; span=(187, 190), match='```'>\n",
      "190\n",
      "379\n"
     ]
    }
   ],
   "source": [
    "text = '''\n",
    "\n",
    "ChatCompletion(id='chatcmpl-8rqCrcR31LiSXUEs38wzcquhF9afA', choices=[Choice(finish_reason='stop', index=0, logprobs=None, message=ChatCompletionMessage(content='Here\\'s your SQL query:\\n\\n```\\nSELECT COUNT(*) AS total_patients_admitted\\nFROM cardio\\nUNION ALL\\nSELECT COUNT(*) AS total_patients_admitted\\nFROM deiabetes\\nUNION ALL\\nSELECT COUNT(*) AS total_patients_admitted\\nFROM lungs;\\n```\\n\\nThis query will give you the count of total patients admitted to the hospital by combining the count of patients from all three tables (cardio, deiabetes, and lungs). The output will have a single column named \"total_patients_admitted\" with the total count of patients.', role='assistant', function_call=None, tool_calls=None), content_filter_results={'hate': {'filtered': False, 'severity': 'safe'}, 'self_harm': {'filtered': False, 'severity': 'safe'}, 'sexual': {'filtered': False, 'severity': 'safe'}, 'violence': {'filtered': False, 'severity': 'safe'}})], created=1707842757, model='gpt-35-turbo', object='chat.completion', system_fingerprint=None, usage=CompletionUsage(completion_tokens=114, prompt_tokens=1270, total_tokens=1384), prompt_filter_results=[{'prompt_index': 0, 'content_filter_results': {'hate': {'filtered': False, 'severity': 'safe'}, 'self_harm': {'filtered': False, 'severity': 'safe'}, 'sexual': {'filtered': False, 'severity': 'safe'}, 'violence': {'filtered': False, 'severity': 'safe'}}}])\n",
    "'''\n",
    "import re\n",
    "x = re.search(\"```\", text)\n",
    "print('x',x)\n",
    "st = x.end()\n",
    "y = re.search('```',text[st:])\n",
    "end = st+y.start()\n",
    "print(st)\n",
    "print(end)"
   ]
  },
  {
   "cell_type": "code",
   "execution_count": 22,
   "id": "9d1c340a",
   "metadata": {},
   "outputs": [],
   "source": [
    "text= text[190:379]\n",
    "text = text.replace('\\n', ' ')"
   ]
  },
  {
   "cell_type": "code",
   "execution_count": 1,
   "id": "ec3cf691",
   "metadata": {},
   "outputs": [
    {
     "name": "stdout",
     "output_type": "stream",
     "text": [
      "yes\n"
     ]
    }
   ],
   "source": [
    "a = 'Bar chart'\n",
    "if 'bar' in a.lower():\n",
    "    print('yes')"
   ]
  },
  {
   "cell_type": "code",
   "execution_count": 1,
   "id": "404a2b9d",
   "metadata": {},
   "outputs": [],
   "source": [
    "import streamlit as st\n",
    "import pandas as pd\n",
    "import altair as alt"
   ]
  },
  {
   "cell_type": "code",
   "execution_count": 14,
   "id": "5b3f7643",
   "metadata": {},
   "outputs": [
    {
     "name": "stdout",
     "output_type": "stream",
     "text": [
      "   index  total_patients\n",
      "0      0           42820\n"
     ]
    }
   ],
   "source": [
    "data = {'total_patients': [42820]}\n",
    "df = pd.DataFrame(data).reset_index()\n",
    "print(df)"
   ]
  },
  {
   "cell_type": "code",
   "execution_count": 12,
   "id": "66c94ead",
   "metadata": {},
   "outputs": [
    {
     "name": "stdout",
     "output_type": "stream",
     "text": [
      "  Disease_Type  Total_Patients\n",
      "0       Cardio           10000\n",
      "1     Diabetes           30000\n",
      "2        Lungs            2820\n"
     ]
    }
   ],
   "source": [
    "data = {'Disease_Type': ['Cardio', 'Diabetes', 'Lungs'], 'Total_Patients': [10000, 30000, 2820]}\n",
    "df = pd.DataFrame(data)\n",
    "print(df)"
   ]
  },
  {
   "cell_type": "code",
   "execution_count": 10,
   "id": "a0b90471",
   "metadata": {},
   "outputs": [
    {
     "name": "stdout",
     "output_type": "stream",
     "text": [
      "^C\n"
     ]
    }
   ],
   "source": []
  },
  {
   "cell_type": "code",
   "execution_count": null,
   "id": "d5ba342a",
   "metadata": {},
   "outputs": [],
   "source": [
    "chart = alt.Chart(df).mark_bar().encode(\n",
    "    x='total_patients',\n",
    "    y=alt.Y('index', title=None),\n",
    ")\n",
    "\n",
    "# Set the chart title and axis labels\n",
    "chart = chart.properties(\n",
    "    title={\n",
    "        \"text\": \"Total Patients\",\n",
    "        \"subtitle\": \"Number of patients in the dataset\"\n",
    "    },\n",
    "    x=alt.X(title=\"Total Patients\"),\n",
    "    y=alt.Y(title=None)\n",
    ")\n",
    "\n",
    "st.altair_chart(chart, use_container_width=True)"
   ]
  }
 ],
 "metadata": {
  "kernelspec": {
   "display_name": "Python 3",
   "language": "python",
   "name": "python3"
  },
  "language_info": {
   "codemirror_mode": {
    "name": "ipython",
    "version": 3
   },
   "file_extension": ".py",
   "mimetype": "text/x-python",
   "name": "python",
   "nbconvert_exporter": "python",
   "pygments_lexer": "ipython3",
   "version": "3.8.8"
  }
 },
 "nbformat": 4,
 "nbformat_minor": 5
}
