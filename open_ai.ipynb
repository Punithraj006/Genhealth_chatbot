{
 "cells": [
  {
   "cell_type": "code",
   "execution_count": null,
   "id": "e2a9f9aa",
   "metadata": {},
   "outputs": [],
   "source": [
    "import os\n",
    "from openai import AzureOpenAI\n",
    "\n",
    "client = AzureOpenAI(\n",
    "    api_key = '8a195875605648a9bbb56dd739ad4118',\n",
    "    api_version = '2023-12-01-preview',\n",
    "    azure_endpoint = 'https://provider-azure-open-ai.openai.azure.com/'\n",
    "    )\n",
    "deployment_name = 'hackathon_genhealth'\n",
    "\n",
    "def get_completion_from_messages(system_message, user_message, model=deployment_name, temperature=0, max_tokens=500) -> str:\n",
    "\n",
    "    messages = [\n",
    "        {'role': 'system', 'content': system_message},\n",
    "        {'role': 'user', 'content': f\"{user_message}\"}\n",
    "    ]\n",
    "    \n",
    "    response = openai.ChatCompletion.create(\n",
    "        engine=model,\n",
    "        messages=messages,\n",
    "        temperature=temperature, \n",
    "        max_tokens=max_tokens, \n",
    "    )\n",
    "    \n",
    "    return response.choices[0].message[\"content\"]"
   ]
  }
 ],
 "metadata": {
  "kernelspec": {
   "display_name": "Python 3",
   "language": "python",
   "name": "python3"
  },
  "language_info": {
   "codemirror_mode": {
    "name": "ipython",
    "version": 3
   },
   "file_extension": ".py",
   "mimetype": "text/x-python",
   "name": "python",
   "nbconvert_exporter": "python",
   "pygments_lexer": "ipython3",
   "version": "3.8.8"
  }
 },
 "nbformat": 4,
 "nbformat_minor": 5
}
