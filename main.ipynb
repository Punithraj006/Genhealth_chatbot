{
 "cells": [
  {
   "cell_type": "code",
   "execution_count": null,
   "id": "473559bf",
   "metadata": {},
   "outputs": [],
   "source": [
    "import streamlit as st\n",
    "import sqlite3\n",
    "import pandas as pd\n",
    "import sql\n",
    "from prompts.prompts import SYSTEM_MESSAGE\n",
    "from open_ai import get_completion_from_messages\n",
    "import json\n",
    "\n",
    "def query_database(query, conn):\n",
    "    \"\"\" Run SQL query and return results in a dataframe \"\"\"\n",
    "    return pd.read_sql_query(query, conn)\n",
    "\n",
    "# Create or connect to SQLite database\n",
    "conn = sql.create_connection()\n",
    "\n",
    "# Schema Representation for finances table\n",
    "schemas = sql.get_schema()\n",
    "\n",
    "st.title(\"SQL Query Generator with GPT-4\")\n",
    "st.write(\"Enter your message to generate SQL and view results.\")\n",
    "\n",
    "# Input field for the user to type a message\n",
    "user_message = st.text_input(\"Enter your message:\")\n",
    "\n",
    "if user_message:\n",
    "    # Format the system message with the schema\n",
    "    formatted_system_message = SYSTEM_MESSAGE.format(schema=schemas['finances'])\n",
    "\n",
    "    # Use GPT-4 to generate the SQL query\n",
    "    response = get_completion_from_messages(formatted_system_message, user_message)\n",
    "    json_response = json.loads(response)\n",
    "    query = json_response['query']\n",
    "\n",
    "    # Display the generated SQL query\n",
    "    st.write(\"Generated SQL Query:\")\n",
    "    st.code(query, language=\"sql\")\n",
    "\n",
    "    try:\n",
    "        # Run the SQL query and display the results\n",
    "        sql_results = query_database(query, conn)\n",
    "        st.write(\"Query Results:\")\n",
    "        st.dataframe(sql_results)\n",
    "\n",
    "    except Exception as e:\n",
    "        st.write(f\"An error occurred: {e}\")"
   ]
  }
 ],
 "metadata": {
  "kernelspec": {
   "display_name": "Python 3",
   "language": "python",
   "name": "python3"
  },
  "language_info": {
   "codemirror_mode": {
    "name": "ipython",
    "version": 3
   },
   "file_extension": ".py",
   "mimetype": "text/x-python",
   "name": "python",
   "nbconvert_exporter": "python",
   "pygments_lexer": "ipython3",
   "version": "3.8.8"
  }
 },
 "nbformat": 4,
 "nbformat_minor": 5
}
